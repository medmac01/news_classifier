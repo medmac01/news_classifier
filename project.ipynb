{
 "cells": [
  {
   "cell_type": "code",
   "execution_count": 134,
   "id": "9db9a87c-39ab-4254-a58b-008ded7137d9",
   "metadata": {},
   "outputs": [
    {
     "name": "stderr",
     "output_type": "stream",
     "text": [
      "[nltk_data] Downloading package stopwords to\n",
      "[nltk_data]     /Users/medmachrouh/nltk_data...\n",
      "[nltk_data]   Package stopwords is already up-to-date!\n"
     ]
    }
   ],
   "source": [
    "import pandas as pd\n",
    "import os\n",
    "import tqdm\n",
    "\n",
    "import nltk, string\n",
    "from nltk.corpus import stopwords\n",
    "from nltk.tokenize import word_tokenize\n",
    "\n",
    "import matplotlib.pyplot as plt\n",
    "import numpy as np\n",
    "nltk.download('stopwords')\n",
    "\n",
    "import re\n",
    "\n",
    "from sklearn.datasets import fetch_20newsgroups\n",
    "\n",
    "from sklearn.feature_extraction.text import CountVectorizer, TfidfTransformer\n",
    "from sklearn.model_selection import train_test_split\n",
    "from sklearn.svm import SVC\n",
    "from sklearn.metrics import confusion_matrix,ConfusionMatrixDisplay\n",
    "from sklearn.metrics import classification_report\n",
    "\n",
    "\n",
    "from sklearn.metrics import (\n",
    "    confusion_matrix,\n",
    "    accuracy_score,\n",
    "    precision_score,\n",
    "    recall_score,\n",
    "    f1_score\n",
    ")"
   ]
  },
  {
   "cell_type": "code",
   "execution_count": 4,
   "id": "142f5835-fa6e-4cca-8f4a-b302ff61f074",
   "metadata": {},
   "outputs": [],
   "source": [
    "DATA_BASE_PATH = '/Users/medmachrouh/Desktop/S8/NLP/Final Project/Datasets'"
   ]
  },
  {
   "cell_type": "code",
   "execution_count": 5,
   "id": "26eed083-c303-4803-9531-8b82216449e6",
   "metadata": {},
   "outputs": [],
   "source": [
    "def load_dataset(dataset_id):\n",
    "    out = pd.DataFrame(columns=['idx','text','category'])\n",
    "    \n",
    "    for category in os.listdir(os.path.join(DATA_BASE_PATH,os.listdir(DATA_BASE_PATH)[dataset_id])):\n",
    "        if category == '.DS_Store':\n",
    "            continue\n",
    "        for f in os.listdir(os.path.join(DATA_BASE_PATH,os.listdir(DATA_BASE_PATH)[dataset_id],category)):\n",
    "            try:\n",
    "                with open(os.path.join(os.path.join(DATA_BASE_PATH,os.listdir(DATA_BASE_PATH)[dataset_id]),category,f),'r') as file:\n",
    "                    text = file.read()\n",
    "                    row = {'idx':str(f).replace('.txt',''),'text':text,'category':category}\n",
    "                    row = pd.DataFrame(row, index=[0])\n",
    "                    file.close()\n",
    "\n",
    "                    out = pd.concat([out, row], axis=0, ignore_index=True)\n",
    "            \n",
    "            except UnicodeDecodeError:\n",
    "                continue\n",
    "    return out"
   ]
  },
  {
   "cell_type": "code",
   "execution_count": 6,
   "id": "0bb40234-16e1-4dae-91ad-5d20734bd377",
   "metadata": {},
   "outputs": [],
   "source": [
    "bbc_data = load_dataset(1)"
   ]
  },
  {
   "cell_type": "code",
   "execution_count": 71,
   "id": "170de379-0325-4c77-9590-11a74fb0dcb4",
   "metadata": {},
   "outputs": [],
   "source": [
    "cats = ['comp.graphics','soc.religion.christian','talk.politics.guns','misc.forsale','rec.sport.baseball']\n",
    "news_group20_train = fetch_20newsgroups(subset='train',categories=cats)\n",
    "news_group20_test = fetch_20newsgroups(subset='test', categories=cats)"
   ]
  },
  {
   "cell_type": "code",
   "execution_count": 8,
   "id": "6b568ec7-bdac-4ed0-a1fb-b108013f06fe",
   "metadata": {},
   "outputs": [
    {
     "data": {
      "text/html": [
       "<div>\n",
       "<style scoped>\n",
       "    .dataframe tbody tr th:only-of-type {\n",
       "        vertical-align: middle;\n",
       "    }\n",
       "\n",
       "    .dataframe tbody tr th {\n",
       "        vertical-align: top;\n",
       "    }\n",
       "\n",
       "    .dataframe thead th {\n",
       "        text-align: right;\n",
       "    }\n",
       "</style>\n",
       "<table border=\"1\" class=\"dataframe\">\n",
       "  <thead>\n",
       "    <tr style=\"text-align: right;\">\n",
       "      <th></th>\n",
       "      <th>idx</th>\n",
       "      <th>text</th>\n",
       "      <th>category</th>\n",
       "    </tr>\n",
       "  </thead>\n",
       "  <tbody>\n",
       "    <tr>\n",
       "      <th>0</th>\n",
       "      <td>289</td>\n",
       "      <td>Musicians to tackle US red tape\\n\\nMusicians' ...</td>\n",
       "      <td>entertainment</td>\n",
       "    </tr>\n",
       "    <tr>\n",
       "      <th>1</th>\n",
       "      <td>262</td>\n",
       "      <td>U2's desire to be number one\\n\\nU2, who have w...</td>\n",
       "      <td>entertainment</td>\n",
       "    </tr>\n",
       "    <tr>\n",
       "      <th>2</th>\n",
       "      <td>276</td>\n",
       "      <td>Rocker Doherty in on-stage fight\\n\\nRock singe...</td>\n",
       "      <td>entertainment</td>\n",
       "    </tr>\n",
       "    <tr>\n",
       "      <th>3</th>\n",
       "      <td>060</td>\n",
       "      <td>Snicket tops US box office chart\\n\\nThe film a...</td>\n",
       "      <td>entertainment</td>\n",
       "    </tr>\n",
       "    <tr>\n",
       "      <th>4</th>\n",
       "      <td>074</td>\n",
       "      <td>Ocean's Twelve raids box office\\n\\nOcean's Twe...</td>\n",
       "      <td>entertainment</td>\n",
       "    </tr>\n",
       "    <tr>\n",
       "      <th>...</th>\n",
       "      <td>...</td>\n",
       "      <td>...</td>\n",
       "      <td>...</td>\n",
       "    </tr>\n",
       "    <tr>\n",
       "      <th>2220</th>\n",
       "      <td>086</td>\n",
       "      <td>Warning over Windows Word files\\n\\nWriting a M...</td>\n",
       "      <td>tech</td>\n",
       "    </tr>\n",
       "    <tr>\n",
       "      <th>2221</th>\n",
       "      <td>253</td>\n",
       "      <td>Fast lifts rise into record books\\n\\nTwo high-...</td>\n",
       "      <td>tech</td>\n",
       "    </tr>\n",
       "    <tr>\n",
       "      <th>2222</th>\n",
       "      <td>247</td>\n",
       "      <td>Nintendo adds media playing to DS\\n\\nNintendo ...</td>\n",
       "      <td>tech</td>\n",
       "    </tr>\n",
       "    <tr>\n",
       "      <th>2223</th>\n",
       "      <td>290</td>\n",
       "      <td>Fast moving phone viruses appear\\n\\nSecurity f...</td>\n",
       "      <td>tech</td>\n",
       "    </tr>\n",
       "    <tr>\n",
       "      <th>2224</th>\n",
       "      <td>284</td>\n",
       "      <td>Hacker threat to Apple's iTunes\\n\\nUsers of Ap...</td>\n",
       "      <td>tech</td>\n",
       "    </tr>\n",
       "  </tbody>\n",
       "</table>\n",
       "<p>2225 rows × 3 columns</p>\n",
       "</div>"
      ],
      "text/plain": [
       "      idx                                               text       category\n",
       "0     289  Musicians to tackle US red tape\\n\\nMusicians' ...  entertainment\n",
       "1     262  U2's desire to be number one\\n\\nU2, who have w...  entertainment\n",
       "2     276  Rocker Doherty in on-stage fight\\n\\nRock singe...  entertainment\n",
       "3     060  Snicket tops US box office chart\\n\\nThe film a...  entertainment\n",
       "4     074  Ocean's Twelve raids box office\\n\\nOcean's Twe...  entertainment\n",
       "...   ...                                                ...            ...\n",
       "2220  086  Warning over Windows Word files\\n\\nWriting a M...           tech\n",
       "2221  253  Fast lifts rise into record books\\n\\nTwo high-...           tech\n",
       "2222  247  Nintendo adds media playing to DS\\n\\nNintendo ...           tech\n",
       "2223  290  Fast moving phone viruses appear\\n\\nSecurity f...           tech\n",
       "2224  284  Hacker threat to Apple's iTunes\\n\\nUsers of Ap...           tech\n",
       "\n",
       "[2225 rows x 3 columns]"
      ]
     },
     "execution_count": 8,
     "metadata": {},
     "output_type": "execute_result"
    }
   ],
   "source": [
    "bbc_data"
   ]
  },
  {
   "cell_type": "code",
   "execution_count": 72,
   "id": "4548282d-3508-4ff4-bb07-b43f0fabb27a",
   "metadata": {},
   "outputs": [],
   "source": [
    "news_group20_train = pd.DataFrame({'idx':news_group20_train.filenames, 'text':news_group20_train.data, 'category':news_group20_train.target})\n",
    "news_group20_test = pd.DataFrame({'idx':news_group20_test.filenames, 'text':news_group20_test.data, 'category':news_group20_test.target})"
   ]
  },
  {
   "cell_type": "code",
   "execution_count": 73,
   "id": "cb8623aa-0f19-4309-9300-ea324e6442d2",
   "metadata": {},
   "outputs": [
    {
     "data": {
      "text/html": [
       "<div>\n",
       "<style scoped>\n",
       "    .dataframe tbody tr th:only-of-type {\n",
       "        vertical-align: middle;\n",
       "    }\n",
       "\n",
       "    .dataframe tbody tr th {\n",
       "        vertical-align: top;\n",
       "    }\n",
       "\n",
       "    .dataframe thead th {\n",
       "        text-align: right;\n",
       "    }\n",
       "</style>\n",
       "<table border=\"1\" class=\"dataframe\">\n",
       "  <thead>\n",
       "    <tr style=\"text-align: right;\">\n",
       "      <th></th>\n",
       "      <th>idx</th>\n",
       "      <th>text</th>\n",
       "      <th>category</th>\n",
       "    </tr>\n",
       "  </thead>\n",
       "  <tbody>\n",
       "    <tr>\n",
       "      <th>0</th>\n",
       "      <td>/Users/medmachrouh/scikit_learn_data/20news_ho...</td>\n",
       "      <td>Organization: University of Maine System\\nFrom...</td>\n",
       "      <td>2</td>\n",
       "    </tr>\n",
       "    <tr>\n",
       "      <th>1</th>\n",
       "      <td>/Users/medmachrouh/scikit_learn_data/20news_ho...</td>\n",
       "      <td>Subject: 286 mother board 4 sale\\nFrom: James ...</td>\n",
       "      <td>1</td>\n",
       "    </tr>\n",
       "    <tr>\n",
       "      <th>2</th>\n",
       "      <td>/Users/medmachrouh/scikit_learn_data/20news_ho...</td>\n",
       "      <td>From: king@cogsci.ucsd.edu (Jonathan King)\\nSu...</td>\n",
       "      <td>2</td>\n",
       "    </tr>\n",
       "    <tr>\n",
       "      <th>3</th>\n",
       "      <td>/Users/medmachrouh/scikit_learn_data/20news_ho...</td>\n",
       "      <td>From: jrm@gnv.ifas.ufl.edu\\nSubject: Re: BATF/...</td>\n",
       "      <td>4</td>\n",
       "    </tr>\n",
       "    <tr>\n",
       "      <th>4</th>\n",
       "      <td>/Users/medmachrouh/scikit_learn_data/20news_ho...</td>\n",
       "      <td>From: rwrona@cbnewse.cb.att.com (robert.wrona)...</td>\n",
       "      <td>1</td>\n",
       "    </tr>\n",
       "    <tr>\n",
       "      <th>...</th>\n",
       "      <td>...</td>\n",
       "      <td>...</td>\n",
       "      <td>...</td>\n",
       "    </tr>\n",
       "    <tr>\n",
       "      <th>1933</th>\n",
       "      <td>/Users/medmachrouh/scikit_learn_data/20news_ho...</td>\n",
       "      <td>From: edimg@willard.atl.ga.us (Ed Pimentel)\\nS...</td>\n",
       "      <td>0</td>\n",
       "    </tr>\n",
       "    <tr>\n",
       "      <th>1934</th>\n",
       "      <td>/Users/medmachrouh/scikit_learn_data/20news_ho...</td>\n",
       "      <td>From: bluelobster+@cmu.edu (David O Hunt)\\nSub...</td>\n",
       "      <td>3</td>\n",
       "    </tr>\n",
       "    <tr>\n",
       "      <th>1935</th>\n",
       "      <td>/Users/medmachrouh/scikit_learn_data/20news_ho...</td>\n",
       "      <td>From: munroe@dmc.com (Dick Munroe)\\nSubject: R...</td>\n",
       "      <td>1</td>\n",
       "    </tr>\n",
       "    <tr>\n",
       "      <th>1936</th>\n",
       "      <td>/Users/medmachrouh/scikit_learn_data/20news_ho...</td>\n",
       "      <td>From: pagan@DPW.COM (Kathleen M. Pagan)\\nSubje...</td>\n",
       "      <td>4</td>\n",
       "    </tr>\n",
       "    <tr>\n",
       "      <th>1937</th>\n",
       "      <td>/Users/medmachrouh/scikit_learn_data/20news_ho...</td>\n",
       "      <td>From: jnle@cbnewsd.cb.att.com (John N. Le)\\nSu...</td>\n",
       "      <td>1</td>\n",
       "    </tr>\n",
       "  </tbody>\n",
       "</table>\n",
       "<p>1938 rows × 3 columns</p>\n",
       "</div>"
      ],
      "text/plain": [
       "                                                    idx  \\\n",
       "0     /Users/medmachrouh/scikit_learn_data/20news_ho...   \n",
       "1     /Users/medmachrouh/scikit_learn_data/20news_ho...   \n",
       "2     /Users/medmachrouh/scikit_learn_data/20news_ho...   \n",
       "3     /Users/medmachrouh/scikit_learn_data/20news_ho...   \n",
       "4     /Users/medmachrouh/scikit_learn_data/20news_ho...   \n",
       "...                                                 ...   \n",
       "1933  /Users/medmachrouh/scikit_learn_data/20news_ho...   \n",
       "1934  /Users/medmachrouh/scikit_learn_data/20news_ho...   \n",
       "1935  /Users/medmachrouh/scikit_learn_data/20news_ho...   \n",
       "1936  /Users/medmachrouh/scikit_learn_data/20news_ho...   \n",
       "1937  /Users/medmachrouh/scikit_learn_data/20news_ho...   \n",
       "\n",
       "                                                   text  category  \n",
       "0     Organization: University of Maine System\\nFrom...         2  \n",
       "1     Subject: 286 mother board 4 sale\\nFrom: James ...         1  \n",
       "2     From: king@cogsci.ucsd.edu (Jonathan King)\\nSu...         2  \n",
       "3     From: jrm@gnv.ifas.ufl.edu\\nSubject: Re: BATF/...         4  \n",
       "4     From: rwrona@cbnewse.cb.att.com (robert.wrona)...         1  \n",
       "...                                                 ...       ...  \n",
       "1933  From: edimg@willard.atl.ga.us (Ed Pimentel)\\nS...         0  \n",
       "1934  From: bluelobster+@cmu.edu (David O Hunt)\\nSub...         3  \n",
       "1935  From: munroe@dmc.com (Dick Munroe)\\nSubject: R...         1  \n",
       "1936  From: pagan@DPW.COM (Kathleen M. Pagan)\\nSubje...         4  \n",
       "1937  From: jnle@cbnewsd.cb.att.com (John N. Le)\\nSu...         1  \n",
       "\n",
       "[1938 rows x 3 columns]"
      ]
     },
     "execution_count": 73,
     "metadata": {},
     "output_type": "execute_result"
    }
   ],
   "source": [
    "news_group20_test"
   ]
  },
  {
   "cell_type": "code",
   "execution_count": 74,
   "id": "13f2bda9-6ac6-48af-bc52-86dd214b6db7",
   "metadata": {},
   "outputs": [],
   "source": [
    "def remove_sw(corpus):\n",
    "    stop_words = set(stopwords.words('english'))\n",
    "    tokens = word_tokenize(str(corpus))\n",
    "    filtered = [w for w in tokens if not w.lower() in stop_words]\n",
    "    return ' '.join(filtered)\n",
    "\n",
    "def remove_punct(corpus):\n",
    "    tokens = word_tokenize(str(corpus))\n",
    "    filtered = [word for word in tokens if word not in string.punctuation and not word.isnumeric()]\n",
    "    return ' '.join(filtered)\n",
    "\n",
    "def remove_headers(text):\n",
    "    header_end = text.find('\\n\\n')\n",
    "    if header_end != -1:\n",
    "        text = text[header_end:]\n",
    "\n",
    "    text = re.sub(r'\\S+@\\S+', '', text)\n",
    "\n",
    "    return text\n",
    "\n",
    "def to_lowercase(text):\n",
    "    return text.lower()\n"
   ]
  },
  {
   "cell_type": "code",
   "execution_count": 13,
   "id": "3a6b75ee-1a9d-412b-976c-da02119e5561",
   "metadata": {},
   "outputs": [],
   "source": [
    "bbc_data['text'] = bbc_data['text'].apply(remove_sw)\n",
    "bbc_data['text'] = bbc_data['text'].apply(remove_punct)\n",
    "bbc_data['text'] = bbc_data['text'].apply(to_lowercase)"
   ]
  },
  {
   "cell_type": "code",
   "execution_count": 97,
   "id": "acc813b5-a5aa-4a34-a580-497ba892f862",
   "metadata": {},
   "outputs": [],
   "source": [
    "bbc_data = bbc_data.sample(frac = 1)"
   ]
  },
  {
   "cell_type": "code",
   "execution_count": 98,
   "id": "3eaf57dd-102f-4ba1-abaf-e05ef77d16b4",
   "metadata": {},
   "outputs": [
    {
     "data": {
      "text/html": [
       "<div>\n",
       "<style scoped>\n",
       "    .dataframe tbody tr th:only-of-type {\n",
       "        vertical-align: middle;\n",
       "    }\n",
       "\n",
       "    .dataframe tbody tr th {\n",
       "        vertical-align: top;\n",
       "    }\n",
       "\n",
       "    .dataframe thead th {\n",
       "        text-align: right;\n",
       "    }\n",
       "</style>\n",
       "<table border=\"1\" class=\"dataframe\">\n",
       "  <thead>\n",
       "    <tr style=\"text-align: right;\">\n",
       "      <th></th>\n",
       "      <th>idx</th>\n",
       "      <th>text</th>\n",
       "      <th>category</th>\n",
       "    </tr>\n",
       "  </thead>\n",
       "  <tbody>\n",
       "    <tr>\n",
       "      <th>435</th>\n",
       "      <td>466</td>\n",
       "      <td>high fuel costs hit us airlines two largest ai...</td>\n",
       "      <td>business</td>\n",
       "    </tr>\n",
       "    <tr>\n",
       "      <th>909</th>\n",
       "      <td>302</td>\n",
       "      <td>italy 17-28 ireland two moments magic brian o'...</td>\n",
       "      <td>sport</td>\n",
       "    </tr>\n",
       "    <tr>\n",
       "      <th>182</th>\n",
       "      <td>340</td>\n",
       "      <td>de niro completes box office coup robert de ni...</td>\n",
       "      <td>entertainment</td>\n",
       "    </tr>\n",
       "    <tr>\n",
       "      <th>1080</th>\n",
       "      <td>429</td>\n",
       "      <td>nadal marches mexico rafael nadal continued ru...</td>\n",
       "      <td>sport</td>\n",
       "    </tr>\n",
       "    <tr>\n",
       "      <th>556</th>\n",
       "      <td>001</td>\n",
       "      <td>ad sales boost time warner profit quarterly pr...</td>\n",
       "      <td>business</td>\n",
       "    </tr>\n",
       "    <tr>\n",
       "      <th>...</th>\n",
       "      <td>...</td>\n",
       "      <td>...</td>\n",
       "      <td>...</td>\n",
       "    </tr>\n",
       "    <tr>\n",
       "      <th>1135</th>\n",
       "      <td>383</td>\n",
       "      <td>dawson wins england squad recall wasps scrum-h...</td>\n",
       "      <td>sport</td>\n",
       "    </tr>\n",
       "    <tr>\n",
       "      <th>829</th>\n",
       "      <td>127</td>\n",
       "      <td>yukos owner sues russia 28bn majority owner em...</td>\n",
       "      <td>business</td>\n",
       "    </tr>\n",
       "    <tr>\n",
       "      <th>1205</th>\n",
       "      <td>346</td>\n",
       "      <td>england 'to launch ref protest england protest...</td>\n",
       "      <td>sport</td>\n",
       "    </tr>\n",
       "    <tr>\n",
       "      <th>313</th>\n",
       "      <td>320</td>\n",
       "      <td>johnny cash manager holiff dies former manager...</td>\n",
       "      <td>entertainment</td>\n",
       "    </tr>\n",
       "    <tr>\n",
       "      <th>2197</th>\n",
       "      <td>285</td>\n",
       "      <td>format wars could 'confuse users technology fi...</td>\n",
       "      <td>tech</td>\n",
       "    </tr>\n",
       "  </tbody>\n",
       "</table>\n",
       "<p>2225 rows × 3 columns</p>\n",
       "</div>"
      ],
      "text/plain": [
       "      idx                                               text       category\n",
       "435   466  high fuel costs hit us airlines two largest ai...       business\n",
       "909   302  italy 17-28 ireland two moments magic brian o'...          sport\n",
       "182   340  de niro completes box office coup robert de ni...  entertainment\n",
       "1080  429  nadal marches mexico rafael nadal continued ru...          sport\n",
       "556   001  ad sales boost time warner profit quarterly pr...       business\n",
       "...   ...                                                ...            ...\n",
       "1135  383  dawson wins england squad recall wasps scrum-h...          sport\n",
       "829   127  yukos owner sues russia 28bn majority owner em...       business\n",
       "1205  346  england 'to launch ref protest england protest...          sport\n",
       "313   320  johnny cash manager holiff dies former manager...  entertainment\n",
       "2197  285  format wars could 'confuse users technology fi...           tech\n",
       "\n",
       "[2225 rows x 3 columns]"
      ]
     },
     "execution_count": 98,
     "metadata": {},
     "output_type": "execute_result"
    }
   ],
   "source": [
    "bbc_data"
   ]
  },
  {
   "cell_type": "code",
   "execution_count": 75,
   "id": "3cfbc14f-6138-4aa0-93d1-4dddd9167b93",
   "metadata": {},
   "outputs": [
    {
     "name": "stderr",
     "output_type": "stream",
     "text": [
      "100%|██████████████████████████████████████████████████████████████████████| 2911/2911 [00:00<00:00, 1625348.63it/s]\n",
      "100%|██████████████████████████████████████████████████████████████████████| 2911/2911 [00:00<00:00, 1696487.28it/s]\n",
      "100%|██████████████████████████████████████████████████████████████████████| 2911/2911 [00:00<00:00, 1354667.59it/s]\n",
      "100%|███████████████████████████████████████████████████████████████████████| 2911/2911 [00:00<00:00, 960404.23it/s]\n"
     ]
    }
   ],
   "source": [
    "news_group20_train['text'] = tqdm.tqdm(news_group20_train['text'].apply(remove_sw))\n",
    "news_group20_train['text'] = tqdm.tqdm(news_group20_train['text'].apply(remove_punct))\n",
    "news_group20_train['text'] = tqdm.tqdm(news_group20_train['text'].apply(remove_headers))\n",
    "news_group20_train['text'] = tqdm.tqdm(news_group20_train['text'].apply(to_lowercase))"
   ]
  },
  {
   "cell_type": "code",
   "execution_count": 76,
   "id": "ea54575b-41d5-4695-ac43-dc398cbf8565",
   "metadata": {},
   "outputs": [
    {
     "name": "stderr",
     "output_type": "stream",
     "text": [
      "100%|██████████████████████████████████████████████████████████████████████| 1938/1938 [00:00<00:00, 1009382.98it/s]\n",
      "100%|██████████████████████████████████████████████████████████████████████| 1938/1938 [00:00<00:00, 1566498.58it/s]\n",
      "100%|██████████████████████████████████████████████████████████████████████| 1938/1938 [00:00<00:00, 1287590.87it/s]\n",
      "100%|███████████████████████████████████████████████████████████████████████| 1938/1938 [00:00<00:00, 651431.41it/s]\n"
     ]
    }
   ],
   "source": [
    "news_group20_test['text'] = tqdm.tqdm(news_group20_test['text'].apply(remove_sw))\n",
    "news_group20_test['text'] = tqdm.tqdm(news_group20_test['text'].apply(remove_punct))\n",
    "news_group20_test['text'] = tqdm.tqdm(news_group20_test['text'].apply(remove_headers))\n",
    "news_group20_test['text'] = tqdm.tqdm(news_group20_test['text'].apply(to_lowercase))"
   ]
  },
  {
   "cell_type": "code",
   "execution_count": 77,
   "id": "48eef64e-dd71-44a9-a66e-ab5553e63662",
   "metadata": {},
   "outputs": [
    {
     "data": {
      "text/html": [
       "<div>\n",
       "<style scoped>\n",
       "    .dataframe tbody tr th:only-of-type {\n",
       "        vertical-align: middle;\n",
       "    }\n",
       "\n",
       "    .dataframe tbody tr th {\n",
       "        vertical-align: top;\n",
       "    }\n",
       "\n",
       "    .dataframe thead th {\n",
       "        text-align: right;\n",
       "    }\n",
       "</style>\n",
       "<table border=\"1\" class=\"dataframe\">\n",
       "  <thead>\n",
       "    <tr style=\"text-align: right;\">\n",
       "      <th></th>\n",
       "      <th>idx</th>\n",
       "      <th>text</th>\n",
       "      <th>category</th>\n",
       "    </tr>\n",
       "  </thead>\n",
       "  <tbody>\n",
       "    <tr>\n",
       "      <th>0</th>\n",
       "      <td>/Users/medmachrouh/scikit_learn_data/20news_ho...</td>\n",
       "      <td>organization university maine system ryan robb...</td>\n",
       "      <td>2</td>\n",
       "    </tr>\n",
       "    <tr>\n",
       "      <th>1</th>\n",
       "      <td>/Users/medmachrouh/scikit_learn_data/20news_ho...</td>\n",
       "      <td>subject mother board sale james chu ccc105 psu...</td>\n",
       "      <td>1</td>\n",
       "    </tr>\n",
       "    <tr>\n",
       "      <th>2</th>\n",
       "      <td>/Users/medmachrouh/scikit_learn_data/20news_ho...</td>\n",
       "      <td>king cogsci.ucsd.edu jonathan king subject jef...</td>\n",
       "      <td>2</td>\n",
       "    </tr>\n",
       "    <tr>\n",
       "      <th>3</th>\n",
       "      <td>/Users/medmachrouh/scikit_learn_data/20news_ho...</td>\n",
       "      <td>jrm gnv.ifas.ufl.edu subject batf/fbi revenge ...</td>\n",
       "      <td>4</td>\n",
       "    </tr>\n",
       "    <tr>\n",
       "      <th>4</th>\n",
       "      <td>/Users/medmachrouh/scikit_learn_data/20news_ho...</td>\n",
       "      <td>rwrona cbnewse.cb.att.com robert.wrona subject...</td>\n",
       "      <td>1</td>\n",
       "    </tr>\n",
       "    <tr>\n",
       "      <th>...</th>\n",
       "      <td>...</td>\n",
       "      <td>...</td>\n",
       "      <td>...</td>\n",
       "    </tr>\n",
       "    <tr>\n",
       "      <th>1933</th>\n",
       "      <td>/Users/medmachrouh/scikit_learn_data/20news_ho...</td>\n",
       "      <td>edimg willard.atl.ga.us ed pimentel subject rf...</td>\n",
       "      <td>0</td>\n",
       "    </tr>\n",
       "    <tr>\n",
       "      <th>1934</th>\n",
       "      <td>/Users/medmachrouh/scikit_learn_data/20news_ho...</td>\n",
       "      <td>bluelobster+ cmu.edu david hunt subject got sa...</td>\n",
       "      <td>3</td>\n",
       "    </tr>\n",
       "    <tr>\n",
       "      <th>1935</th>\n",
       "      <td>/Users/medmachrouh/scikit_learn_data/20news_ho...</td>\n",
       "      <td>munroe dmc.com dick munroe subject repost tape...</td>\n",
       "      <td>1</td>\n",
       "    </tr>\n",
       "    <tr>\n",
       "      <th>1936</th>\n",
       "      <td>/Users/medmachrouh/scikit_learn_data/20news_ho...</td>\n",
       "      <td>pagan dpw.com kathleen m. pagan subject atf bu...</td>\n",
       "      <td>4</td>\n",
       "    </tr>\n",
       "    <tr>\n",
       "      <th>1937</th>\n",
       "      <td>/Users/medmachrouh/scikit_learn_data/20news_ho...</td>\n",
       "      <td>jnle cbnewsd.cb.att.com john n. le subject son...</td>\n",
       "      <td>1</td>\n",
       "    </tr>\n",
       "  </tbody>\n",
       "</table>\n",
       "<p>1938 rows × 3 columns</p>\n",
       "</div>"
      ],
      "text/plain": [
       "                                                    idx  \\\n",
       "0     /Users/medmachrouh/scikit_learn_data/20news_ho...   \n",
       "1     /Users/medmachrouh/scikit_learn_data/20news_ho...   \n",
       "2     /Users/medmachrouh/scikit_learn_data/20news_ho...   \n",
       "3     /Users/medmachrouh/scikit_learn_data/20news_ho...   \n",
       "4     /Users/medmachrouh/scikit_learn_data/20news_ho...   \n",
       "...                                                 ...   \n",
       "1933  /Users/medmachrouh/scikit_learn_data/20news_ho...   \n",
       "1934  /Users/medmachrouh/scikit_learn_data/20news_ho...   \n",
       "1935  /Users/medmachrouh/scikit_learn_data/20news_ho...   \n",
       "1936  /Users/medmachrouh/scikit_learn_data/20news_ho...   \n",
       "1937  /Users/medmachrouh/scikit_learn_data/20news_ho...   \n",
       "\n",
       "                                                   text  category  \n",
       "0     organization university maine system ryan robb...         2  \n",
       "1     subject mother board sale james chu ccc105 psu...         1  \n",
       "2     king cogsci.ucsd.edu jonathan king subject jef...         2  \n",
       "3     jrm gnv.ifas.ufl.edu subject batf/fbi revenge ...         4  \n",
       "4     rwrona cbnewse.cb.att.com robert.wrona subject...         1  \n",
       "...                                                 ...       ...  \n",
       "1933  edimg willard.atl.ga.us ed pimentel subject rf...         0  \n",
       "1934  bluelobster+ cmu.edu david hunt subject got sa...         3  \n",
       "1935  munroe dmc.com dick munroe subject repost tape...         1  \n",
       "1936  pagan dpw.com kathleen m. pagan subject atf bu...         4  \n",
       "1937  jnle cbnewsd.cb.att.com john n. le subject son...         1  \n",
       "\n",
       "[1938 rows x 3 columns]"
      ]
     },
     "execution_count": 77,
     "metadata": {},
     "output_type": "execute_result"
    }
   ],
   "source": [
    "news_group20_test"
   ]
  },
  {
   "cell_type": "code",
   "execution_count": 173,
   "id": "915be44b-918d-47b6-baa0-58266154ca0a",
   "metadata": {},
   "outputs": [],
   "source": [
    "vectorizer = CountVectorizer(stop_words='english', max_features=5000)\n",
    "\n",
    "X_train_counts = vectorizer.fit_transform(news_group20_train.text)\n",
    "X_test_counts = vectorizer.transform(news_group20_test.text)"
   ]
  },
  {
   "cell_type": "code",
   "execution_count": 174,
   "id": "af9ada7a-7291-46e5-986d-92ec8babff3c",
   "metadata": {},
   "outputs": [],
   "source": [
    "tfidf_transformer = TfidfTransformer()\n",
    "\n",
    "X_train_tfidf = tfidf_transformer.fit_transform(X_train_counts)\n",
    "X_test_tfidf = tfidf_transformer.transform(X_test_counts)"
   ]
  },
  {
   "cell_type": "code",
   "execution_count": 175,
   "id": "9d5df7f6-6a3f-4359-ad86-cc70f4815b08",
   "metadata": {},
   "outputs": [],
   "source": [
    "y_train = news_group20_train.category\n",
    "y_test = news_group20_test.category"
   ]
  },
  {
   "cell_type": "code",
   "execution_count": 176,
   "id": "6ea91824-ec8c-4ada-8ac0-4c5717a622a1",
   "metadata": {},
   "outputs": [],
   "source": [
    "X_train, X_val, y_train, y_val = train_test_split(X_train_tfidf, y_train, test_size=0.2, random_state=42)"
   ]
  },
  {
   "cell_type": "code",
   "execution_count": 177,
   "id": "d17575e8-f816-4c70-88d9-7135426a23e4",
   "metadata": {},
   "outputs": [
    {
     "name": "stdout",
     "output_type": "stream",
     "text": [
      "Train shape: (2328, 5000)\n",
      "Validation shape: (583, 5000)\n",
      "Test shape: (1938, 5000)\n"
     ]
    }
   ],
   "source": [
    "print(\"Train shape:\", X_train.shape)\n",
    "print(\"Validation shape:\", X_val.shape)\n",
    "print(\"Test shape:\", X_test_tfidf.shape)"
   ]
  },
  {
   "cell_type": "code",
   "execution_count": 178,
   "id": "08f294c9-548c-4d5f-bd08-4bf7066bcc13",
   "metadata": {},
   "outputs": [
    {
     "data": {
      "text/html": [
       "<style>#sk-container-id-22 {color: black;background-color: white;}#sk-container-id-22 pre{padding: 0;}#sk-container-id-22 div.sk-toggleable {background-color: white;}#sk-container-id-22 label.sk-toggleable__label {cursor: pointer;display: block;width: 100%;margin-bottom: 0;padding: 0.3em;box-sizing: border-box;text-align: center;}#sk-container-id-22 label.sk-toggleable__label-arrow:before {content: \"▸\";float: left;margin-right: 0.25em;color: #696969;}#sk-container-id-22 label.sk-toggleable__label-arrow:hover:before {color: black;}#sk-container-id-22 div.sk-estimator:hover label.sk-toggleable__label-arrow:before {color: black;}#sk-container-id-22 div.sk-toggleable__content {max-height: 0;max-width: 0;overflow: hidden;text-align: left;background-color: #f0f8ff;}#sk-container-id-22 div.sk-toggleable__content pre {margin: 0.2em;color: black;border-radius: 0.25em;background-color: #f0f8ff;}#sk-container-id-22 input.sk-toggleable__control:checked~div.sk-toggleable__content {max-height: 200px;max-width: 100%;overflow: auto;}#sk-container-id-22 input.sk-toggleable__control:checked~label.sk-toggleable__label-arrow:before {content: \"▾\";}#sk-container-id-22 div.sk-estimator input.sk-toggleable__control:checked~label.sk-toggleable__label {background-color: #d4ebff;}#sk-container-id-22 div.sk-label input.sk-toggleable__control:checked~label.sk-toggleable__label {background-color: #d4ebff;}#sk-container-id-22 input.sk-hidden--visually {border: 0;clip: rect(1px 1px 1px 1px);clip: rect(1px, 1px, 1px, 1px);height: 1px;margin: -1px;overflow: hidden;padding: 0;position: absolute;width: 1px;}#sk-container-id-22 div.sk-estimator {font-family: monospace;background-color: #f0f8ff;border: 1px dotted black;border-radius: 0.25em;box-sizing: border-box;margin-bottom: 0.5em;}#sk-container-id-22 div.sk-estimator:hover {background-color: #d4ebff;}#sk-container-id-22 div.sk-parallel-item::after {content: \"\";width: 100%;border-bottom: 1px solid gray;flex-grow: 1;}#sk-container-id-22 div.sk-label:hover label.sk-toggleable__label {background-color: #d4ebff;}#sk-container-id-22 div.sk-serial::before {content: \"\";position: absolute;border-left: 1px solid gray;box-sizing: border-box;top: 0;bottom: 0;left: 50%;z-index: 0;}#sk-container-id-22 div.sk-serial {display: flex;flex-direction: column;align-items: center;background-color: white;padding-right: 0.2em;padding-left: 0.2em;position: relative;}#sk-container-id-22 div.sk-item {position: relative;z-index: 1;}#sk-container-id-22 div.sk-parallel {display: flex;align-items: stretch;justify-content: center;background-color: white;position: relative;}#sk-container-id-22 div.sk-item::before, #sk-container-id-22 div.sk-parallel-item::before {content: \"\";position: absolute;border-left: 1px solid gray;box-sizing: border-box;top: 0;bottom: 0;left: 50%;z-index: -1;}#sk-container-id-22 div.sk-parallel-item {display: flex;flex-direction: column;z-index: 1;position: relative;background-color: white;}#sk-container-id-22 div.sk-parallel-item:first-child::after {align-self: flex-end;width: 50%;}#sk-container-id-22 div.sk-parallel-item:last-child::after {align-self: flex-start;width: 50%;}#sk-container-id-22 div.sk-parallel-item:only-child::after {width: 0;}#sk-container-id-22 div.sk-dashed-wrapped {border: 1px dashed gray;margin: 0 0.4em 0.5em 0.4em;box-sizing: border-box;padding-bottom: 0.4em;background-color: white;}#sk-container-id-22 div.sk-label label {font-family: monospace;font-weight: bold;display: inline-block;line-height: 1.2em;}#sk-container-id-22 div.sk-label-container {text-align: center;}#sk-container-id-22 div.sk-container {/* jupyter's `normalize.less` sets `[hidden] { display: none; }` but bootstrap.min.css set `[hidden] { display: none !important; }` so we also need the `!important` here to be able to override the default hidden behavior on the sphinx rendered scikit-learn.org. See: https://github.com/scikit-learn/scikit-learn/issues/21755 */display: inline-block !important;position: relative;}#sk-container-id-22 div.sk-text-repr-fallback {display: none;}</style><div id=\"sk-container-id-22\" class=\"sk-top-container\"><div class=\"sk-text-repr-fallback\"><pre>SVC()</pre><b>In a Jupyter environment, please rerun this cell to show the HTML representation or trust the notebook. <br />On GitHub, the HTML representation is unable to render, please try loading this page with nbviewer.org.</b></div><div class=\"sk-container\" hidden><div class=\"sk-item\"><div class=\"sk-estimator sk-toggleable\"><input class=\"sk-toggleable__control sk-hidden--visually\" id=\"sk-estimator-id-22\" type=\"checkbox\" checked><label for=\"sk-estimator-id-22\" class=\"sk-toggleable__label sk-toggleable__label-arrow\">SVC</label><div class=\"sk-toggleable__content\"><pre>SVC()</pre></div></div></div></div></div>"
      ],
      "text/plain": [
       "SVC()"
      ]
     },
     "execution_count": 178,
     "metadata": {},
     "output_type": "execute_result"
    }
   ],
   "source": [
    "svc_ng = SVC(kernel='rbf', verbose=False)\n",
    "svc_ng"
   ]
  },
  {
   "cell_type": "code",
   "execution_count": 179,
   "id": "dcb10355-dc8a-4420-b641-e45e60fb3840",
   "metadata": {},
   "outputs": [
    {
     "data": {
      "text/html": [
       "<style>#sk-container-id-23 {color: black;background-color: white;}#sk-container-id-23 pre{padding: 0;}#sk-container-id-23 div.sk-toggleable {background-color: white;}#sk-container-id-23 label.sk-toggleable__label {cursor: pointer;display: block;width: 100%;margin-bottom: 0;padding: 0.3em;box-sizing: border-box;text-align: center;}#sk-container-id-23 label.sk-toggleable__label-arrow:before {content: \"▸\";float: left;margin-right: 0.25em;color: #696969;}#sk-container-id-23 label.sk-toggleable__label-arrow:hover:before {color: black;}#sk-container-id-23 div.sk-estimator:hover label.sk-toggleable__label-arrow:before {color: black;}#sk-container-id-23 div.sk-toggleable__content {max-height: 0;max-width: 0;overflow: hidden;text-align: left;background-color: #f0f8ff;}#sk-container-id-23 div.sk-toggleable__content pre {margin: 0.2em;color: black;border-radius: 0.25em;background-color: #f0f8ff;}#sk-container-id-23 input.sk-toggleable__control:checked~div.sk-toggleable__content {max-height: 200px;max-width: 100%;overflow: auto;}#sk-container-id-23 input.sk-toggleable__control:checked~label.sk-toggleable__label-arrow:before {content: \"▾\";}#sk-container-id-23 div.sk-estimator input.sk-toggleable__control:checked~label.sk-toggleable__label {background-color: #d4ebff;}#sk-container-id-23 div.sk-label input.sk-toggleable__control:checked~label.sk-toggleable__label {background-color: #d4ebff;}#sk-container-id-23 input.sk-hidden--visually {border: 0;clip: rect(1px 1px 1px 1px);clip: rect(1px, 1px, 1px, 1px);height: 1px;margin: -1px;overflow: hidden;padding: 0;position: absolute;width: 1px;}#sk-container-id-23 div.sk-estimator {font-family: monospace;background-color: #f0f8ff;border: 1px dotted black;border-radius: 0.25em;box-sizing: border-box;margin-bottom: 0.5em;}#sk-container-id-23 div.sk-estimator:hover {background-color: #d4ebff;}#sk-container-id-23 div.sk-parallel-item::after {content: \"\";width: 100%;border-bottom: 1px solid gray;flex-grow: 1;}#sk-container-id-23 div.sk-label:hover label.sk-toggleable__label {background-color: #d4ebff;}#sk-container-id-23 div.sk-serial::before {content: \"\";position: absolute;border-left: 1px solid gray;box-sizing: border-box;top: 0;bottom: 0;left: 50%;z-index: 0;}#sk-container-id-23 div.sk-serial {display: flex;flex-direction: column;align-items: center;background-color: white;padding-right: 0.2em;padding-left: 0.2em;position: relative;}#sk-container-id-23 div.sk-item {position: relative;z-index: 1;}#sk-container-id-23 div.sk-parallel {display: flex;align-items: stretch;justify-content: center;background-color: white;position: relative;}#sk-container-id-23 div.sk-item::before, #sk-container-id-23 div.sk-parallel-item::before {content: \"\";position: absolute;border-left: 1px solid gray;box-sizing: border-box;top: 0;bottom: 0;left: 50%;z-index: -1;}#sk-container-id-23 div.sk-parallel-item {display: flex;flex-direction: column;z-index: 1;position: relative;background-color: white;}#sk-container-id-23 div.sk-parallel-item:first-child::after {align-self: flex-end;width: 50%;}#sk-container-id-23 div.sk-parallel-item:last-child::after {align-self: flex-start;width: 50%;}#sk-container-id-23 div.sk-parallel-item:only-child::after {width: 0;}#sk-container-id-23 div.sk-dashed-wrapped {border: 1px dashed gray;margin: 0 0.4em 0.5em 0.4em;box-sizing: border-box;padding-bottom: 0.4em;background-color: white;}#sk-container-id-23 div.sk-label label {font-family: monospace;font-weight: bold;display: inline-block;line-height: 1.2em;}#sk-container-id-23 div.sk-label-container {text-align: center;}#sk-container-id-23 div.sk-container {/* jupyter's `normalize.less` sets `[hidden] { display: none; }` but bootstrap.min.css set `[hidden] { display: none !important; }` so we also need the `!important` here to be able to override the default hidden behavior on the sphinx rendered scikit-learn.org. See: https://github.com/scikit-learn/scikit-learn/issues/21755 */display: inline-block !important;position: relative;}#sk-container-id-23 div.sk-text-repr-fallback {display: none;}</style><div id=\"sk-container-id-23\" class=\"sk-top-container\"><div class=\"sk-text-repr-fallback\"><pre>SVC()</pre><b>In a Jupyter environment, please rerun this cell to show the HTML representation or trust the notebook. <br />On GitHub, the HTML representation is unable to render, please try loading this page with nbviewer.org.</b></div><div class=\"sk-container\" hidden><div class=\"sk-item\"><div class=\"sk-estimator sk-toggleable\"><input class=\"sk-toggleable__control sk-hidden--visually\" id=\"sk-estimator-id-23\" type=\"checkbox\" checked><label for=\"sk-estimator-id-23\" class=\"sk-toggleable__label sk-toggleable__label-arrow\">SVC</label><div class=\"sk-toggleable__content\"><pre>SVC()</pre></div></div></div></div></div>"
      ],
      "text/plain": [
       "SVC()"
      ]
     },
     "execution_count": 179,
     "metadata": {},
     "output_type": "execute_result"
    }
   ],
   "source": [
    "svc_ng.fit(X_train,y_train)"
   ]
  },
  {
   "cell_type": "code",
   "execution_count": 180,
   "id": "c577d566-6fc8-46a2-8cc0-a4e42731e6b0",
   "metadata": {},
   "outputs": [
    {
     "name": "stdout",
     "output_type": "stream",
     "text": [
      "Train Accuracy: 0.9995704467353952\n",
      "Test Accuracy: 0.9545923632610939\n",
      "Validation Accuracy: 0.9605488850771869\n"
     ]
    }
   ],
   "source": [
    "print(f\"Train Accuracy: {svc_ng.score(X_train,y_train)}\")\n",
    "print(f\"Test Accuracy: {svc_ng.score(X_test_tfidf,y_test)}\")\n",
    "print(f\"Validation Accuracy: {svc_ng.score(X_val,y_val)}\")"
   ]
  },
  {
   "cell_type": "code",
   "execution_count": 181,
   "id": "1f21a14d-d71d-4dde-b45d-fa657b8d058b",
   "metadata": {},
   "outputs": [],
   "source": [
    "preds = svc_ng.predict(X_val)\n",
    "cm_ng = confusion_matrix(y_val, preds)"
   ]
  },
  {
   "cell_type": "code",
   "execution_count": 182,
   "id": "586c1b09-6e3a-4ffc-9d07-63d8686ae560",
   "metadata": {},
   "outputs": [
    {
     "data": {
      "text/plain": [
       "<sklearn.metrics._plot.confusion_matrix.ConfusionMatrixDisplay at 0x7fea4f29ea90>"
      ]
     },
     "execution_count": 182,
     "metadata": {},
     "output_type": "execute_result"
    },
    {
     "data": {
      "image/png": "[encoded data removed]",
      "text/plain": [
       "<Figure size 432x288 with 2 Axes>"
      ]
     },
     "metadata": {
      "needs_background": "light"
     },
     "output_type": "display_data"
    }
   ],
   "source": [
    "disp = ConfusionMatrixDisplay(cm_ng,display_labels=cats)\n",
    "disp.plot()"
   ]
  },
  {
   "cell_type": "code",
   "execution_count": 183,
   "id": "ccc8fe4b-9c1b-4a0f-8947-502e6555aa72",
   "metadata": {},
   "outputs": [
    {
     "name": "stdout",
     "output_type": "stream",
     "text": [
      "Precision = 0.961635370665987\n",
      "Recall = 0.9605488850771869\n",
      "F1 Score = 0.9608364812147615\n"
     ]
    }
   ],
   "source": [
    "precision = precision_score(y_val, preds, average='weighted')\n",
    "recall = recall_score(y_val, preds, average='weighted')\n",
    "f1score = f1_score(y_val, preds, average='weighted')\n",
    "\n",
    "print(f\"Precision = {precision}\")\n",
    "print(f\"Recall = {recall}\")\n",
    "print(f\"F1 Score = {f1score}\")"
   ]
  },
  {
   "cell_type": "code",
   "execution_count": 184,
   "id": "dd95524c-d6d1-435e-bf0c-23ceeb706b6c",
   "metadata": {},
   "outputs": [],
   "source": [
    "report_ng = classification_report(y_val,preds, target_names=cats, output_dict=True)"
   ]
  },
  {
   "cell_type": "code",
   "execution_count": 185,
   "id": "12849985-190e-4101-9db9-9d9474e4613c",
   "metadata": {},
   "outputs": [
    {
     "data": {
      "text/plain": [
       "{'comp.graphics': 0.9426229508196721,\n",
       " 'soc.religion.christian': 0.9310344827586208,\n",
       " 'talk.politics.guns': 0.970464135021097,\n",
       " 'misc.forsale': 0.9790794979079497,\n",
       " 'rec.sport.baseball': 0.9813084112149533}"
      ]
     },
     "execution_count": 185,
     "metadata": {},
     "output_type": "execute_result"
    }
   ],
   "source": [
    "f1_scores_ng = {category: report_ng[category]['f1-score'] for category in cats}\n",
    "f1_scores_ng"
   ]
  },
  {
   "cell_type": "code",
   "execution_count": 186,
   "id": "f42f8a0d-5371-4397-871b-72eba329beae",
   "metadata": {},
   "outputs": [
    {
     "data": {
      "text/plain": [
       "{'comp.graphics': 0.9349593495934959,\n",
       " 'soc.religion.christian': 0.907563025210084,\n",
       " 'talk.politics.guns': 0.9829059829059829,\n",
       " 'misc.forsale': 1.0,\n",
       " 'rec.sport.baseball': 0.9813084112149533}"
      ]
     },
     "execution_count": 186,
     "metadata": {},
     "output_type": "execute_result"
    }
   ],
   "source": [
    "precisions_ng = {category: report_ng[category]['precision'] for category in cats}\n",
    "precisions_ng"
   ]
  },
  {
   "cell_type": "code",
   "execution_count": 187,
   "id": "3b07211f-20ab-4bea-aa69-b485e3f5f693",
   "metadata": {},
   "outputs": [
    {
     "data": {
      "text/plain": [
       "{'comp.graphics': 0.9504132231404959,\n",
       " 'soc.religion.christian': 0.9557522123893806,\n",
       " 'talk.politics.guns': 0.9583333333333334,\n",
       " 'misc.forsale': 0.9590163934426229,\n",
       " 'rec.sport.baseball': 0.9813084112149533}"
      ]
     },
     "execution_count": 187,
     "metadata": {},
     "output_type": "execute_result"
    }
   ],
   "source": [
    "recalls_ng = {category: report_ng[category]['recall'] for category in cats}\n",
    "recalls_ng"
   ]
  },
  {
   "cell_type": "code",
   "execution_count": null,
   "id": "3dada2eb-ecf1-4366-8152-bf929d05f88c",
   "metadata": {},
   "outputs": [],
   "source": []
  },
  {
   "cell_type": "code",
   "execution_count": 151,
   "id": "c473cedc-db2d-48f3-b929-6b7c9e1283b9",
   "metadata": {},
   "outputs": [],
   "source": [
    "bbc_train = bbc_data[:int(bbc_data.shape[0]*0.8)]\n",
    "bbc_test = bbc_data[int(bbc_data.shape[0]*0.8)+1:]"
   ]
  },
  {
   "cell_type": "code",
   "execution_count": 152,
   "id": "949827b9-2c61-4a83-ad2a-65aedeec0bb8",
   "metadata": {},
   "outputs": [],
   "source": [
    "vectorizer_bbc = CountVectorizer(stop_words='english', max_features=5000)\n",
    "\n",
    "X_train_counts_bbc = vectorizer_bbc.fit_transform(bbc_train.text)\n",
    "X_test_counts_bbc = vectorizer_bbc.transform(bbc_test.text)"
   ]
  },
  {
   "cell_type": "code",
   "execution_count": 153,
   "id": "572f073b-2a96-40cc-ad2f-260221b1ee58",
   "metadata": {},
   "outputs": [],
   "source": [
    "tfidf_transformer_bbc = TfidfTransformer()\n",
    "\n",
    "X_train_tfidf_bbc = tfidf_transformer_bbc.fit_transform(X_train_counts_bbc)\n",
    "X_test_tfidf_bbc = tfidf_transformer_bbc.transform(X_test_counts_bbc)"
   ]
  },
  {
   "cell_type": "code",
   "execution_count": 154,
   "id": "58d04fd5-dbcb-4627-adf0-801954021b0f",
   "metadata": {},
   "outputs": [],
   "source": [
    "y_train_bbc = bbc_train.category\n",
    "y_test_bbc = bbc_test.category"
   ]
  },
  {
   "cell_type": "code",
   "execution_count": 155,
   "id": "c03298e8-c001-466c-9869-9ad5493fd6ba",
   "metadata": {},
   "outputs": [],
   "source": [
    "X_train, X_val, y_train, y_val = train_test_split(X_train_tfidf_bbc, y_train_bbc, test_size=0.2, random_state=42)"
   ]
  },
  {
   "cell_type": "code",
   "execution_count": 156,
   "id": "946ab4dd-6ffa-4aab-908a-38cc325eec32",
   "metadata": {},
   "outputs": [
    {
     "name": "stdout",
     "output_type": "stream",
     "text": [
      "Train shape: (1424, 5000)\n",
      "Validation shape: (356, 5000)\n",
      "Test shape: (444, 5000)\n"
     ]
    }
   ],
   "source": [
    "print(\"Train shape:\", X_train.shape)\n",
    "print(\"Validation shape:\", X_val.shape)\n",
    "print(\"Test shape:\", X_test_tfidf_bbc.shape)"
   ]
  },
  {
   "cell_type": "code",
   "execution_count": 157,
   "id": "3bbda475-fc9b-4750-80f6-4acb9750893a",
   "metadata": {},
   "outputs": [
    {
     "data": {
      "text/html": [
       "<style>#sk-container-id-20 {color: black;background-color: white;}#sk-container-id-20 pre{padding: 0;}#sk-container-id-20 div.sk-toggleable {background-color: white;}#sk-container-id-20 label.sk-toggleable__label {cursor: pointer;display: block;width: 100%;margin-bottom: 0;padding: 0.3em;box-sizing: border-box;text-align: center;}#sk-container-id-20 label.sk-toggleable__label-arrow:before {content: \"▸\";float: left;margin-right: 0.25em;color: #696969;}#sk-container-id-20 label.sk-toggleable__label-arrow:hover:before {color: black;}#sk-container-id-20 div.sk-estimator:hover label.sk-toggleable__label-arrow:before {color: black;}#sk-container-id-20 div.sk-toggleable__content {max-height: 0;max-width: 0;overflow: hidden;text-align: left;background-color: #f0f8ff;}#sk-container-id-20 div.sk-toggleable__content pre {margin: 0.2em;color: black;border-radius: 0.25em;background-color: #f0f8ff;}#sk-container-id-20 input.sk-toggleable__control:checked~div.sk-toggleable__content {max-height: 200px;max-width: 100%;overflow: auto;}#sk-container-id-20 input.sk-toggleable__control:checked~label.sk-toggleable__label-arrow:before {content: \"▾\";}#sk-container-id-20 div.sk-estimator input.sk-toggleable__control:checked~label.sk-toggleable__label {background-color: #d4ebff;}#sk-container-id-20 div.sk-label input.sk-toggleable__control:checked~label.sk-toggleable__label {background-color: #d4ebff;}#sk-container-id-20 input.sk-hidden--visually {border: 0;clip: rect(1px 1px 1px 1px);clip: rect(1px, 1px, 1px, 1px);height: 1px;margin: -1px;overflow: hidden;padding: 0;position: absolute;width: 1px;}#sk-container-id-20 div.sk-estimator {font-family: monospace;background-color: #f0f8ff;border: 1px dotted black;border-radius: 0.25em;box-sizing: border-box;margin-bottom: 0.5em;}#sk-container-id-20 div.sk-estimator:hover {background-color: #d4ebff;}#sk-container-id-20 div.sk-parallel-item::after {content: \"\";width: 100%;border-bottom: 1px solid gray;flex-grow: 1;}#sk-container-id-20 div.sk-label:hover label.sk-toggleable__label {background-color: #d4ebff;}#sk-container-id-20 div.sk-serial::before {content: \"\";position: absolute;border-left: 1px solid gray;box-sizing: border-box;top: 0;bottom: 0;left: 50%;z-index: 0;}#sk-container-id-20 div.sk-serial {display: flex;flex-direction: column;align-items: center;background-color: white;padding-right: 0.2em;padding-left: 0.2em;position: relative;}#sk-container-id-20 div.sk-item {position: relative;z-index: 1;}#sk-container-id-20 div.sk-parallel {display: flex;align-items: stretch;justify-content: center;background-color: white;position: relative;}#sk-container-id-20 div.sk-item::before, #sk-container-id-20 div.sk-parallel-item::before {content: \"\";position: absolute;border-left: 1px solid gray;box-sizing: border-box;top: 0;bottom: 0;left: 50%;z-index: -1;}#sk-container-id-20 div.sk-parallel-item {display: flex;flex-direction: column;z-index: 1;position: relative;background-color: white;}#sk-container-id-20 div.sk-parallel-item:first-child::after {align-self: flex-end;width: 50%;}#sk-container-id-20 div.sk-parallel-item:last-child::after {align-self: flex-start;width: 50%;}#sk-container-id-20 div.sk-parallel-item:only-child::after {width: 0;}#sk-container-id-20 div.sk-dashed-wrapped {border: 1px dashed gray;margin: 0 0.4em 0.5em 0.4em;box-sizing: border-box;padding-bottom: 0.4em;background-color: white;}#sk-container-id-20 div.sk-label label {font-family: monospace;font-weight: bold;display: inline-block;line-height: 1.2em;}#sk-container-id-20 div.sk-label-container {text-align: center;}#sk-container-id-20 div.sk-container {/* jupyter's `normalize.less` sets `[hidden] { display: none; }` but bootstrap.min.css set `[hidden] { display: none !important; }` so we also need the `!important` here to be able to override the default hidden behavior on the sphinx rendered scikit-learn.org. See: https://github.com/scikit-learn/scikit-learn/issues/21755 */display: inline-block !important;position: relative;}#sk-container-id-20 div.sk-text-repr-fallback {display: none;}</style><div id=\"sk-container-id-20\" class=\"sk-top-container\"><div class=\"sk-text-repr-fallback\"><pre>SVC()</pre><b>In a Jupyter environment, please rerun this cell to show the HTML representation or trust the notebook. <br />On GitHub, the HTML representation is unable to render, please try loading this page with nbviewer.org.</b></div><div class=\"sk-container\" hidden><div class=\"sk-item\"><div class=\"sk-estimator sk-toggleable\"><input class=\"sk-toggleable__control sk-hidden--visually\" id=\"sk-estimator-id-20\" type=\"checkbox\" checked><label for=\"sk-estimator-id-20\" class=\"sk-toggleable__label sk-toggleable__label-arrow\">SVC</label><div class=\"sk-toggleable__content\"><pre>SVC()</pre></div></div></div></div></div>"
      ],
      "text/plain": [
       "SVC()"
      ]
     },
     "execution_count": 157,
     "metadata": {},
     "output_type": "execute_result"
    }
   ],
   "source": [
    "svc_bbc = SVC(kernel='rbf', verbose=False)\n",
    "svc_bbc"
   ]
  },
  {
   "cell_type": "code",
   "execution_count": 158,
   "id": "96248371-2309-4732-9674-e73150ac7361",
   "metadata": {},
   "outputs": [
    {
     "data": {
      "text/html": [
       "<style>#sk-container-id-21 {color: black;background-color: white;}#sk-container-id-21 pre{padding: 0;}#sk-container-id-21 div.sk-toggleable {background-color: white;}#sk-container-id-21 label.sk-toggleable__label {cursor: pointer;display: block;width: 100%;margin-bottom: 0;padding: 0.3em;box-sizing: border-box;text-align: center;}#sk-container-id-21 label.sk-toggleable__label-arrow:before {content: \"▸\";float: left;margin-right: 0.25em;color: #696969;}#sk-container-id-21 label.sk-toggleable__label-arrow:hover:before {color: black;}#sk-container-id-21 div.sk-estimator:hover label.sk-toggleable__label-arrow:before {color: black;}#sk-container-id-21 div.sk-toggleable__content {max-height: 0;max-width: 0;overflow: hidden;text-align: left;background-color: #f0f8ff;}#sk-container-id-21 div.sk-toggleable__content pre {margin: 0.2em;color: black;border-radius: 0.25em;background-color: #f0f8ff;}#sk-container-id-21 input.sk-toggleable__control:checked~div.sk-toggleable__content {max-height: 200px;max-width: 100%;overflow: auto;}#sk-container-id-21 input.sk-toggleable__control:checked~label.sk-toggleable__label-arrow:before {content: \"▾\";}#sk-container-id-21 div.sk-estimator input.sk-toggleable__control:checked~label.sk-toggleable__label {background-color: #d4ebff;}#sk-container-id-21 div.sk-label input.sk-toggleable__control:checked~label.sk-toggleable__label {background-color: #d4ebff;}#sk-container-id-21 input.sk-hidden--visually {border: 0;clip: rect(1px 1px 1px 1px);clip: rect(1px, 1px, 1px, 1px);height: 1px;margin: -1px;overflow: hidden;padding: 0;position: absolute;width: 1px;}#sk-container-id-21 div.sk-estimator {font-family: monospace;background-color: #f0f8ff;border: 1px dotted black;border-radius: 0.25em;box-sizing: border-box;margin-bottom: 0.5em;}#sk-container-id-21 div.sk-estimator:hover {background-color: #d4ebff;}#sk-container-id-21 div.sk-parallel-item::after {content: \"\";width: 100%;border-bottom: 1px solid gray;flex-grow: 1;}#sk-container-id-21 div.sk-label:hover label.sk-toggleable__label {background-color: #d4ebff;}#sk-container-id-21 div.sk-serial::before {content: \"\";position: absolute;border-left: 1px solid gray;box-sizing: border-box;top: 0;bottom: 0;left: 50%;z-index: 0;}#sk-container-id-21 div.sk-serial {display: flex;flex-direction: column;align-items: center;background-color: white;padding-right: 0.2em;padding-left: 0.2em;position: relative;}#sk-container-id-21 div.sk-item {position: relative;z-index: 1;}#sk-container-id-21 div.sk-parallel {display: flex;align-items: stretch;justify-content: center;background-color: white;position: relative;}#sk-container-id-21 div.sk-item::before, #sk-container-id-21 div.sk-parallel-item::before {content: \"\";position: absolute;border-left: 1px solid gray;box-sizing: border-box;top: 0;bottom: 0;left: 50%;z-index: -1;}#sk-container-id-21 div.sk-parallel-item {display: flex;flex-direction: column;z-index: 1;position: relative;background-color: white;}#sk-container-id-21 div.sk-parallel-item:first-child::after {align-self: flex-end;width: 50%;}#sk-container-id-21 div.sk-parallel-item:last-child::after {align-self: flex-start;width: 50%;}#sk-container-id-21 div.sk-parallel-item:only-child::after {width: 0;}#sk-container-id-21 div.sk-dashed-wrapped {border: 1px dashed gray;margin: 0 0.4em 0.5em 0.4em;box-sizing: border-box;padding-bottom: 0.4em;background-color: white;}#sk-container-id-21 div.sk-label label {font-family: monospace;font-weight: bold;display: inline-block;line-height: 1.2em;}#sk-container-id-21 div.sk-label-container {text-align: center;}#sk-container-id-21 div.sk-container {/* jupyter's `normalize.less` sets `[hidden] { display: none; }` but bootstrap.min.css set `[hidden] { display: none !important; }` so we also need the `!important` here to be able to override the default hidden behavior on the sphinx rendered scikit-learn.org. See: https://github.com/scikit-learn/scikit-learn/issues/21755 */display: inline-block !important;position: relative;}#sk-container-id-21 div.sk-text-repr-fallback {display: none;}</style><div id=\"sk-container-id-21\" class=\"sk-top-container\"><div class=\"sk-text-repr-fallback\"><pre>SVC()</pre><b>In a Jupyter environment, please rerun this cell to show the HTML representation or trust the notebook. <br />On GitHub, the HTML representation is unable to render, please try loading this page with nbviewer.org.</b></div><div class=\"sk-container\" hidden><div class=\"sk-item\"><div class=\"sk-estimator sk-toggleable\"><input class=\"sk-toggleable__control sk-hidden--visually\" id=\"sk-estimator-id-21\" type=\"checkbox\" checked><label for=\"sk-estimator-id-21\" class=\"sk-toggleable__label sk-toggleable__label-arrow\">SVC</label><div class=\"sk-toggleable__content\"><pre>SVC()</pre></div></div></div></div></div>"
      ],
      "text/plain": [
       "SVC()"
      ]
     },
     "execution_count": 158,
     "metadata": {},
     "output_type": "execute_result"
    }
   ],
   "source": [
    "svc_bbc.fit(X_train,y_train)"
   ]
  },
  {
   "cell_type": "code",
   "execution_count": 159,
   "id": "5f3bc612-f2e4-49c0-a017-ec6edfb04387",
   "metadata": {},
   "outputs": [
    {
     "name": "stdout",
     "output_type": "stream",
     "text": [
      "Train Accuracy: 0.9992977528089888\n",
      "Test Accuracy: 0.9752252252252253\n",
      "Validation Accuracy: 0.9719101123595506\n"
     ]
    }
   ],
   "source": [
    "print(f\"Train Accuracy: {svc_bbc.score(X_train,y_train)}\")\n",
    "print(f\"Test Accuracy: {svc_bbc.score(X_test_tfidf_bbc,y_test_bbc)}\")\n",
    "print(f\"Validation Accuracy: {svc_bbc.score(X_val,y_val)}\")"
   ]
  },
  {
   "cell_type": "code",
   "execution_count": 160,
   "id": "6216a7ec-1006-4e90-a670-0dd70456013c",
   "metadata": {},
   "outputs": [],
   "source": [
    "preds = svc_bbc.predict(X_val)\n",
    "cm_bbc = confusion_matrix(y_val, preds)"
   ]
  },
  {
   "cell_type": "code",
   "execution_count": 161,
   "id": "6a46ef89-8427-413a-9762-b3497e2d2d96",
   "metadata": {},
   "outputs": [
    {
     "data": {
      "text/plain": [
       "<sklearn.metrics._plot.confusion_matrix.ConfusionMatrixDisplay at 0x7fea4f0b4100>"
      ]
     },
     "execution_count": 161,
     "metadata": {},
     "output_type": "execute_result"
    },
    {
     "data": {
      "image/png": "[encoded data removed]",
      "text/plain": [
       "<Figure size 432x288 with 2 Axes>"
      ]
     },
     "metadata": {
      "needs_background": "light"
     },
     "output_type": "display_data"
    }
   ],
   "source": [
    "disp = ConfusionMatrixDisplay(cm_bbc,display_labels=svc_bbc.classes_)\n",
    "disp.plot()"
   ]
  },
  {
   "cell_type": "code",
   "execution_count": 162,
   "id": "e001770a-3db9-4486-86f0-34b7a9f74c02",
   "metadata": {},
   "outputs": [],
   "source": [
    "report_bbc = classification_report(y_val,preds, target_names=svc_bbc.classes_, output_dict=True)"
   ]
  },
  {
   "cell_type": "code",
   "execution_count": 163,
   "id": "e0eb6249-07f4-4fd4-86cf-542f347c7b32",
   "metadata": {},
   "outputs": [
    {
     "data": {
      "text/plain": [
       "{'business': 0.96,\n",
       " 'entertainment': 0.9736842105263158,\n",
       " 'politics': 0.9579831932773109,\n",
       " 'sport': 0.9934640522875817,\n",
       " 'tech': 0.9734513274336283}"
      ]
     },
     "execution_count": 163,
     "metadata": {},
     "output_type": "execute_result"
    }
   ],
   "source": [
    "f1_scores_bbc = {category: report_bbc[category]['f1-score'] for category in svc_bbc.classes_}\n",
    "f1_scores_bbc"
   ]
  },
  {
   "cell_type": "code",
   "execution_count": 165,
   "id": "5adb32c4-89e4-4eee-918f-c0d1d6ec56b1",
   "metadata": {},
   "outputs": [
    {
     "data": {
      "text/plain": [
       "{'business': 0.9655172413793104,\n",
       " 'entertainment': 0.9736842105263158,\n",
       " 'politics': 0.9344262295081968,\n",
       " 'sport': 0.987012987012987,\n",
       " 'tech': 1.0}"
      ]
     },
     "execution_count": 165,
     "metadata": {},
     "output_type": "execute_result"
    }
   ],
   "source": [
    "precisions_bbc = {category: report_bbc[category]['precision'] for category in svc_bbc.classes_}\n",
    "precisions_bbc"
   ]
  },
  {
   "cell_type": "code",
   "execution_count": 166,
   "id": "7b649d96-5fb8-43d7-a100-0480d70a1ad0",
   "metadata": {},
   "outputs": [
    {
     "data": {
      "text/plain": [
       "{'business': 0.9545454545454546,\n",
       " 'entertainment': 0.9736842105263158,\n",
       " 'politics': 0.9827586206896551,\n",
       " 'sport': 1.0,\n",
       " 'tech': 0.9482758620689655}"
      ]
     },
     "execution_count": 166,
     "metadata": {},
     "output_type": "execute_result"
    }
   ],
   "source": [
    "recalls_bbc = {category: report_bbc[category]['recall'] for category in svc_bbc.classes_}\n",
    "recalls_bbc"
   ]
  }
 ],
 "metadata": {
  "kernelspec": {
   "display_name": "Python 3 (ipykernel)",
   "language": "python",
   "name": "python3"
  },
  "language_info": {
   "codemirror_mode": {
    "name": "ipython",
    "version": 3
   },
   "file_extension": ".py",
   "mimetype": "text/x-python",
   "name": "python",
   "nbconvert_exporter": "python",
   "pygments_lexer": "ipython3",
   "version": "3.9.12"
  }
 },
 "nbformat": 4,
 "nbformat_minor": 5
}
